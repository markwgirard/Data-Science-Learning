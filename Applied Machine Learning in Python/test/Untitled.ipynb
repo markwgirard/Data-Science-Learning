{
 "cells": [
  {
   "cell_type": "code",
   "execution_count": 4,
   "metadata": {
    "collapsed": false
   },
   "outputs": [
    {
     "data": {
      "text/plain": [
       "(0.905511811023622, 0.9230769230769231, 0.96)"
      ]
     },
     "execution_count": 4,
     "metadata": {},
     "output_type": "execute_result"
    }
   ],
   "source": [
    "TP = 96\n",
    "TN = 19\n",
    "FP = 8\n",
    "FN = 4\n",
    "total = TP+FP+TN+FN\n",
    "correct = TP+TN\n",
    "accuracy = correct/total\n",
    "precision = TP/(TP+FP)\n",
    "recall = TP/(TP+FN)\n",
    "accuracy, precision, recall"
   ]
  },
  {
   "cell_type": "code",
   "execution_count": null,
   "metadata": {
    "collapsed": true
   },
   "outputs": [],
   "source": [
    "TP = 96\n",
    "TN = 19\n",
    "FP = 8\n",
    "FN = 4\n",
    "total = TP+FP+TN+FN\n",
    "correct = TP+TN\n",
    "accuracy = correct/total\n",
    "accuracy"
   ]
  }
 ],
 "metadata": {
  "kernelspec": {
   "display_name": "Python 3",
   "language": "python",
   "name": "python3"
  },
  "language_info": {
   "codemirror_mode": {
    "name": "ipython",
    "version": 3
   },
   "file_extension": ".py",
   "mimetype": "text/x-python",
   "name": "python",
   "nbconvert_exporter": "python",
   "pygments_lexer": "ipython3",
   "version": "3.6.2"
  }
 },
 "nbformat": 4,
 "nbformat_minor": 1
}

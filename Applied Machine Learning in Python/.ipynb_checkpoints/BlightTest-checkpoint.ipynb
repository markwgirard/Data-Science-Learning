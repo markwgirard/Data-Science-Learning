{
 "cells": [
  {
   "cell_type": "markdown",
   "metadata": {},
   "source": [
    "---\n",
    "\n",
    "_You are currently looking at **version 1.1** of this notebook. To download notebooks and datafiles, as well as get help on Jupyter notebooks in the Coursera platform, visit the [Jupyter Notebook FAQ](https://www.coursera.org/learn/python-machine-learning/resources/bANLa) course resource._\n",
    "\n",
    "---"
   ]
  },
  {
   "cell_type": "markdown",
   "metadata": {},
   "source": [
    "## Assignment 4 - Understanding and Predicting Property Maintenance Fines\n",
    "\n",
    "This assignment is based on a data challenge from the Michigan Data Science Team ([MDST](http://midas.umich.edu/mdst/)). \n",
    "\n",
    "The Michigan Data Science Team ([MDST](http://midas.umich.edu/mdst/)) and the Michigan Student Symposium for Interdisciplinary Statistical Sciences ([MSSISS](https://sites.lsa.umich.edu/mssiss/)) have partnered with the City of Detroit to help solve one of the most pressing problems facing Detroit - blight. [Blight violations](http://www.detroitmi.gov/How-Do-I/Report/Blight-Complaint-FAQs) are issued by the city to individuals who allow their properties to remain in a deteriorated condition. Every year, the city of Detroit issues millions of dollars in fines to residents and every year, many of these fines remain unpaid. Enforcing unpaid blight fines is a costly and tedious process, so the city wants to know: how can we increase blight ticket compliance?\n",
    "\n",
    "The first step in answering this question is understanding when and why a resident might fail to comply with a blight ticket. This is where predictive modeling comes in. For this assignment, your task is to predict whether a given blight ticket will be paid on time.\n",
    "\n",
    "All data for this assignment has been provided to us through the [Detroit Open Data Portal](https://data.detroitmi.gov/). **Only the data already included in your Coursera directory can be used for training the model for this assignment.** Nonetheless, we encourage you to look into data from other Detroit datasets to help inform feature creation and model selection. We recommend taking a look at the following related datasets:\n",
    "\n",
    "* [Building Permits](https://data.detroitmi.gov/Property-Parcels/Building-Permits/xw2a-a7tf)\n",
    "* [Trades Permits](https://data.detroitmi.gov/Property-Parcels/Trades-Permits/635b-dsgv)\n",
    "* [Improve Detroit: Submitted Issues](https://data.detroitmi.gov/Government/Improve-Detroit-Submitted-Issues/fwz3-w3yn)\n",
    "* [DPD: Citizen Complaints](https://data.detroitmi.gov/Public-Safety/DPD-Citizen-Complaints-2016/kahe-efs3)\n",
    "* [Parcel Map](https://data.detroitmi.gov/Property-Parcels/Parcel-Map/fxkw-udwf)\n",
    "\n",
    "___\n",
    "\n",
    "We provide you with two data files for use in training and validating your models: train.csv and test.csv. Each row in these two files corresponds to a single blight ticket, and includes information about when, why, and to whom each ticket was issued. The target variable is compliance, which is True if the ticket was paid early, on time, or within one month of the hearing data, False if the ticket was paid after the hearing date or not at all, and Null if the violator was found not responsible. Compliance, as well as a handful of other variables that will not be available at test-time, are only included in train.csv.\n",
    "\n",
    "Note: All tickets where the violators were found not responsible are not considered during evaluation. They are included in the training set as an additional source of data for visualization, and to enable unsupervised and semi-supervised approaches. However, they are not included in the test set.\n",
    "\n",
    "<br>\n",
    "\n",
    "**File descriptions** (Use only this data for training your model!)\n",
    "\n",
    "    readonly/train.csv - the training set (all tickets issued 2004-2011)\n",
    "    readonly/test.csv - the test set (all tickets issued 2012-2016)\n",
    "    readonly/addresses.csv & readonly/latlons.csv - mapping from ticket id to addresses, and from addresses to lat/lon coordinates. \n",
    "     Note: misspelled addresses may be incorrectly geolocated.\n",
    "\n",
    "<br>\n",
    "\n",
    "**Data fields**\n",
    "\n",
    "train.csv & test.csv\n",
    "\n",
    "    ticket_id - unique identifier for tickets\n",
    "    agency_name - Agency that issued the ticket\n",
    "    inspector_name - Name of inspector that issued the ticket\n",
    "    violator_name - Name of the person/organization that the ticket was issued to\n",
    "    violation_street_number, violation_street_name, violation_zip_code - Address where the violation occurred\n",
    "    mailing_address_str_number, mailing_address_str_name, city, state, zip_code, non_us_str_code, country - Mailing address of the violator\n",
    "    ticket_issued_date - Date and time the ticket was issued\n",
    "    hearing_date - Date and time the violator's hearing was scheduled\n",
    "    violation_code, violation_description - Type of violation\n",
    "    disposition - Judgment and judgement type\n",
    "    fine_amount - Violation fine amount, excluding fees\n",
    "    admin_fee - $20 fee assigned to responsible judgments\n",
    "state_fee - $10 fee assigned to responsible judgments\n",
    "    late_fee - 10% fee assigned to responsible judgments\n",
    "    discount_amount - discount applied, if any\n",
    "    clean_up_cost - DPW clean-up or graffiti removal cost\n",
    "    judgment_amount - Sum of all fines and fees\n",
    "    grafitti_status - Flag for graffiti violations\n",
    "    \n",
    "train.csv only\n",
    "\n",
    "    payment_amount - Amount paid, if any\n",
    "    payment_date - Date payment was made, if it was received\n",
    "    payment_status - Current payment status as of Feb 1 2017\n",
    "    balance_due - Fines and fees still owed\n",
    "    collection_status - Flag for payments in collections\n",
    "    compliance [target variable for prediction] \n",
    "     Null = Not responsible\n",
    "     0 = Responsible, non-compliant\n",
    "     1 = Responsible, compliant\n",
    "    compliance_detail - More information on why each ticket was marked compliant or non-compliant\n",
    "\n",
    "\n",
    "___\n",
    "\n",
    "## Evaluation\n",
    "\n",
    "Your predictions will be given as the probability that the corresponding blight ticket will be paid on time.\n",
    "\n",
    "The evaluation metric for this assignment is the Area Under the ROC Curve (AUC). \n",
    "\n",
    "Your grade will be based on the AUC score computed for your classifier. A model which with an AUROC of 0.7 passes this assignment, over 0.75 will recieve full points.\n",
    "___\n",
    "\n",
    "For this assignment, create a function that trains a model to predict blight ticket compliance in Detroit using `readonly/train.csv`. Using this model, return a series of length 61001 with the data being the probability that each corresponding ticket from `readonly/test.csv` will be paid, and the index being the ticket_id.\n",
    "\n",
    "Example:\n",
    "\n",
    "    ticket_id\n",
    "       284932    0.531842\n",
    "       285362    0.401958\n",
    "       285361    0.105928\n",
    "       285338    0.018572\n",
    "                 ...\n",
    "       376499    0.208567\n",
    "       376500    0.818759\n",
    "       369851    0.018528\n",
    "       Name: compliance, dtype: float32\n",
    "       \n",
    "### Hints\n",
    "\n",
    "* Make sure your code is working before submitting it to the autograder.\n",
    "\n",
    "* Print out your result to see whether there is anything weird (e.g., all probabilities are the same).\n",
    "\n",
    "* Generally the total runtime should be less than 10 mins. You should NOT use Neural Network related classifiers (e.g., MLPClassifier) in this question. \n",
    "\n",
    "* Try to avoid global variables. If you have other functions besides blight_model, you should move those functions inside the scope of blight_model.\n",
    "\n",
    "* Refer to the pinned threads in Week 4's discussion forum when there is something you could not figure it out."
   ]
  },
  {
   "cell_type": "code",
   "execution_count": 8,
   "metadata": {},
   "outputs": [
    {
     "name": "stderr",
     "output_type": "stream",
     "text": [
      "Python 3.6.8 :: Anaconda, Inc.\n"
     ]
    }
   ],
   "source": [
    "!python -V"
   ]
  },
  {
   "cell_type": "code",
   "execution_count": 1,
   "metadata": {},
   "outputs": [],
   "source": [
    "import pandas as pd\n",
    "import numpy as np\n",
    "#import matplotlib.pyplot as plt\n",
    "pd.set_option('display.max_columns',50)\n",
    "\n",
    "from sklearn.ensemble import RandomForestRegressor\n",
    "from sklearn.ensemble import GradientBoostingClassifier\n",
    "from sklearn.model_selection import train_test_split\n",
    "from sklearn.model_selection import GridSearchCV\n",
    "from sklearn.model_selection import cross_val_score\n",
    "from sklearn.preprocessing import LabelEncoder\n",
    "from sklearn.metrics import roc_auc_score"
   ]
  },
  {
   "cell_type": "code",
   "execution_count": 2,
   "metadata": {},
   "outputs": [],
   "source": [
    "def blight_data_fetch(fprefix = 'readonly/'):\n",
    "    fnames = ['train','test','addresses','latlons']\n",
    "    data = [pd.read_csv(fprefix+fname+'.csv', encoding = \"ISO-8859-1\") for fname in fnames]\n",
    "    train_data, test_data, addresses, latlons = data\n",
    "        \n",
    "    addresses = addresses.set_index('address').join(latlons.set_index('address'), how='left')\n",
    "    train_data = train_data.set_index('ticket_id').join(addresses.set_index('ticket_id'))\n",
    "    test_data = test_data.set_index('ticket_id').join(addresses.set_index('ticket_id'))\n",
    "    \n",
    "    return train_data, test_data\n",
    "\n",
    "def blight_data_clean(keep_violation_data = True):\n",
    "    train_data, test_data = blight_data_fetch()\n",
    "    \n",
    "    #Remove columns from train data that do not appear in test data.\n",
    "    train_cols_to_drop = [col for col in train_data.columns if col not in test_data.columns and col!='compliance']\n",
    "    train_data.drop(train_cols_to_drop, axis=1,inplace=True)\n",
    "    \n",
    "    # Remove all training data with no compliance information.\n",
    "    train_data.dropna(subset=['compliance'],inplace=True)\n",
    "    \n",
    "    # We can save on memory by converting the columns with few different values from floats to categories. \n",
    "    cols_to_cat = []\n",
    "    for col in train_data.columns:\n",
    "        if train_data[col].nunique() < 100 and col!='compliance':\n",
    "            cols_to_cat.append(col)\n",
    "\n",
    "    for col in cols_to_cat:\n",
    "        for df in train_data, test_data:\n",
    "            df[col] = df[col].astype('category')\n",
    "            \n",
    "    # Remove non-USA data\n",
    "    train_data=train_data[train_data['country']=='USA']\n",
    "    \n",
    "    # All of the location information will be assumed to be given by the latitude and longitude, so we can eliminate \n",
    "    # some of the columns that are redundant or have no meaningful information.\n",
    "    redundant_info = ['mailing_address_str_number', 'mailing_address_str_name','violation_street_number',\\\n",
    "                  'violation_street_name','violation_zip_code','non_us_str_code','city','state', 'zip_code', 'country']\n",
    "    # We should also remove any personal information. It won't give us meaningful information anyway. \n",
    "    personal_info = ['violator_name','inspector_name']\n",
    "    # We will also drop 'violation_description' since it is too varied to contain useful info for modelling.\n",
    "    other_to_drop = ['violation_description', 'grafitti_status','admin_fee', 'state_fee', 'clean_up_cost']\n",
    "    cols_to_remove = redundant_info + personal_info + other_to_drop\n",
    "    for df in train_data, test_data:\n",
    "        df.drop(cols_to_remove, axis=1,inplace=True)\n",
    "        \n",
    "    # We can get rid of the train data points that have no lat/long info, but for the test points with missing lat/long \n",
    "    # we should fill it in with the mean values of the lat and lon. \n",
    "    train_data.dropna(subset=['lat','lon'],inplace = True) \n",
    "    test_data['lat'].fillna(test_data.lat.mean(),inplace = True)\n",
    "    test_data['lon'].fillna(test_data.lon.mean(),inplace = True)\n",
    "    \n",
    "    # We will replace 'ticket_issue_date' and 'hearing-date' with a new feature that we will call 'ticket_to_hearing_time_gap'.\n",
    "    # First convert data to datetime data.\n",
    "    for df in train_data, test_data:\n",
    "        for date in ['hearing_date','ticket_issued_date']:\n",
    "            df[date] = pd.to_datetime(df[date])\n",
    "        df['ticket_to_hearing_time_gap'] = (df['hearing_date'].subtract(df['ticket_issued_date'])).dt.days\n",
    "        df.drop(['hearing_date','ticket_issued_date'], axis=1, inplace = True)\n",
    "    # Remove train data points that have no hearing_date and fill in test points having no time gap with the average gap.\n",
    "    train_data.dropna(subset=['ticket_to_hearing_time_gap'],inplace = True) \n",
    "    test_data['ticket_to_hearing_time_gap'].fillna(test_data.ticket_to_hearing_time_gap.mean(),inplace = True)\n",
    "    \n",
    "    # Turn compliance from float to int.\n",
    "    train_data['compliance']=train_data['compliance'].astype('int')\n",
    "    \n",
    "    if keep_violation_data:\n",
    "        # Take only the first two characters of the violation code\n",
    "        test_data['violation_code']=test_data['violation_code'].astype(str).str[0:2]\n",
    "        train_data['violation_code']=train_data['violation_code'].astype(str).str[0:2]\n",
    "        train_data =  pd.get_dummies(train_data,columns = ['violation_code'],drop_first = True)\n",
    "        test_data =  pd.get_dummies(test_data,columns = ['violation_code'],drop_first = True)\n",
    "    else:\n",
    "        train_data.drop(['violation_code'], axis=1,inplace=True)\n",
    "        test_data.drop(['violation_code'], axis=1,inplace=True)\n",
    "    \n",
    "    # Turn string features into one hot encoding\n",
    "    string_features = ['agency_name','disposition']\n",
    "    train_data =  pd.get_dummies(train_data,columns = string_features,drop_first = True)\n",
    "    test_data =  pd.get_dummies(test_data,columns = string_features,drop_first = True)\n",
    "    \n",
    "    #Remove columns from train data that do not appear in test data.\n",
    "    train_cols_to_drop = [col for col in train_data.columns if col not in test_data.columns and col!='compliance']\n",
    "    train_data.drop(train_cols_to_drop, axis=1,inplace=True)\n",
    "    test_cols_to_drop = [col for col in test_data.columns if col not in train_data.columns]\n",
    "    test_data.drop(test_cols_to_drop, axis=1,inplace=True)\n",
    "    \n",
    "    # Make train data \n",
    "    y = train_data['compliance']\n",
    "    X = train_data.drop('compliance',axis = 1)\n",
    "    X_test = test_data\n",
    "    \n",
    "    typesdic = {col:'float64' for col in ['fine_amount','late_fee','discount_amount','judgment_amount']}\n",
    "    X=X.astype(typesdic)\n",
    "    X_test=X_test.astype(typesdic)\n",
    "    \n",
    "    return X, y, X_test\n",
    "\n",
    "def make_blight_model():\n",
    "    X, y, X_test = blight_data_clean()\n",
    "    \n",
    "    model = RandomForestRegressor(max_depth = 10, random_state=0).fit(X, y)\n",
    "    ypred = model.predict(X_test)\n",
    "    \n",
    "    out = pd.Series(ypred, index=test_data.index)\n",
    "    \n",
    "    return out"
   ]
  },
  {
   "cell_type": "code",
   "execution_count": 3,
   "metadata": {},
   "outputs": [
    {
     "name": "stderr",
     "output_type": "stream",
     "text": [
      "C:\\Users\\m4girard\\Anaconda3\\lib\\site-packages\\ipykernel_launcher.py:1: DtypeWarning: Columns (11,12,31) have mixed types. Specify dtype option on import or set low_memory=False.\n",
      "  \"\"\"Entry point for launching an IPython kernel.\n",
      "C:\\Users\\m4girard\\Anaconda3\\lib\\site-packages\\sklearn\\preprocessing\\data.py:323: DataConversionWarning: Data with input dtype uint8, float64 were all converted to float64 by MinMaxScaler.\n",
      "  return self.partial_fit(X, y)\n"
     ]
    }
   ],
   "source": [
    "X, y, X_test1 = blight_data_clean(keep_violation_data = True)\n",
    "\n",
    "from sklearn.preprocessing import MinMaxScaler\n",
    "scaler = MinMaxScaler()\n",
    "X_scaled = scaler.fit_transform(X)\n",
    "X_test1_scaled = scaler.transform(X_test1)\n",
    "\n",
    "from sklearn.model_selection import train_test_split\n",
    "X_train, X_test, y_train, y_test = train_test_split(X_scaled, y)"
   ]
  },
  {
   "cell_type": "code",
   "execution_count": null,
   "metadata": {},
   "outputs": [],
   "source": []
  },
  {
   "cell_type": "code",
   "execution_count": 4,
   "metadata": {},
   "outputs": [],
   "source": [
    "from sklearn.metrics import roc_curve\n",
    "import matplotlib.pyplot as plt\n",
    "plt.clf()\n",
    "def model_performance(model, model_name, linestyle='-', marker ='.'):\n",
    "    ypred = model.predict(X_test)\n",
    "    print(model_name+' auc:', roc_auc_score(y_test, ypred))\n",
    "    fpr, tpr, _ = roc_curve(y_test, ypred)\n",
    "    plt.plot(fpr, tpr, linestyle=linestyle, marker = marker,label=model_name)\n",
    "    return"
   ]
  },
  {
   "cell_type": "code",
   "execution_count": 5,
   "metadata": {},
   "outputs": [
    {
     "name": "stdout",
     "output_type": "stream",
     "text": [
      "Dummy auc: 0.5\n"
     ]
    },
    {
     "data": {
      "image/png": "[encoded data removed]",
      "text/plain": [
       "<Figure size 432x288 with 1 Axes>"
      ]
     },
     "metadata": {
      "needs_background": "light"
     },
     "output_type": "display_data"
    }
   ],
   "source": [
    "#This is a the Base classifier any model shouldnot do worse than this\n",
    "from sklearn.dummy import DummyClassifier\n",
    "from sklearn.metrics import roc_auc_score\n",
    "dummy_clf = DummyClassifier(strategy = 'most_frequent').fit(X_train,y_train)\n",
    "model_performance(dummy_clf,\"Dummy\",linestyle=\"--\",marker='')"
   ]
  },
  {
   "cell_type": "code",
   "execution_count": 6,
   "metadata": {},
   "outputs": [
    {
     "name": "stderr",
     "output_type": "stream",
     "text": [
      "C:\\Users\\m4girard\\Anaconda3\\lib\\site-packages\\sklearn\\ensemble\\forest.py:246: FutureWarning: The default value of n_estimators will change from 10 in version 0.20 to 100 in 0.22.\n",
      "  \"10 in version 0.20 to 100 in 0.22.\", FutureWarning)\n"
     ]
    },
    {
     "name": "stdout",
     "output_type": "stream",
     "text": [
      "RandomForest1 auc: 0.8116162509676609\n"
     ]
    },
    {
     "data": {
      "image/png": "[encoded data removed]",
      "text/plain": [
       "<Figure size 432x288 with 1 Axes>"
      ]
     },
     "metadata": {
      "needs_background": "light"
     },
     "output_type": "display_data"
    }
   ],
   "source": [
    "# Random forest model\n",
    "from sklearn.ensemble import RandomForestRegressor\n",
    "rf_model = RandomForestRegressor(max_depth = 10, random_state=0).fit(X_train, y_train)\n",
    "model_performance(rf_model,\"RandomForest1\")"
   ]
  },
  {
   "cell_type": "code",
   "execution_count": 7,
   "metadata": {},
   "outputs": [
    {
     "name": "stdout",
     "output_type": "stream",
     "text": [
      "LinearRegression auc: 0.7761538268664037\n"
     ]
    },
    {
     "data": {
      "image/png": "[encoded data removed]",
      "text/plain": [
       "<Figure size 432x288 with 1 Axes>"
      ]
     },
     "metadata": {
      "needs_background": "light"
     },
     "output_type": "display_data"
    }
   ],
   "source": [
    "# Linear regression\n",
    "from sklearn.linear_model import LinearRegression\n",
    "linreg_model = LinearRegression().fit(X_train,y_train)\n",
    "model_performance(linreg_model,\"LinearRegression\")"
   ]
  },
  {
   "cell_type": "code",
   "execution_count": 8,
   "metadata": {},
   "outputs": [
    {
     "name": "stdout",
     "output_type": "stream",
     "text": [
      "NaiveBayes auc: 0.715839774261\n"
     ]
    }
   ],
   "source": [
    "from sklearn.naive_bayes import GaussianNB\n",
    "\n",
    "NB_model = GaussianNB().fit(X_train, y_train)\n",
    "model_performance(NB_model,\"NaiveBayes\")"
   ]
  },
  {
   "cell_type": "code",
   "execution_count": 9,
   "metadata": {},
   "outputs": [],
   "source": [
    "#from sklearn.ensemble import GradientBoostingClassifier\n",
    "#grid_vals = {'learning_rate': [0.01, 0.1, 1], 'max_depth': [3, 4, 5]}\n",
    "#gb_model = GradientBoostingClassifier(random_state = 0)\n",
    "#gb_grid_model = GridSearchCV(gb_model, param_grid=grid_vals, scoring='roc_auc')\n",
    "#gb_grid_model.fit(X_train, y_train)\n",
    "#model_performance(gb_grid_model,\"GradientBoostingGrid\")"
   ]
  },
  {
   "cell_type": "code",
   "execution_count": 10,
   "metadata": {},
   "outputs": [
    {
     "name": "stdout",
     "output_type": "stream",
     "text": [
      "GradientBoosting auc: 0.622023678076\n"
     ]
    }
   ],
   "source": [
    "from sklearn.ensemble import GradientBoostingClassifier\n",
    "gb_model = GradientBoostingClassifier(learning_rate = .1, max_depth = 4, random_state = 0)\n",
    "gb_model.fit(X_train, y_train)\n",
    "model_performance(gb_model,\"GradientBoosting\")\n"
   ]
  },
  {
   "cell_type": "code",
   "execution_count": 11,
   "metadata": {},
   "outputs": [
    {
     "name": "stdout",
     "output_type": "stream",
     "text": [
      "NeuralNetwork auc: 0.591092503987\n"
     ]
    }
   ],
   "source": [
    "from sklearn.neural_network import MLPClassifier\n",
    "nn_model = MLPClassifier(hidden_layer_sizes = [10, 10], alpha = 5,\n",
    "                       random_state = 0, solver='lbfgs', verbose=0)\n",
    "nn_model.fit(X_train, y_train)\n",
    "model_performance(nn_model,\"NeuralNetwork\")"
   ]
  },
  {
   "cell_type": "code",
   "execution_count": 12,
   "metadata": {},
   "outputs": [
    {
     "data": {
      "image/png": "[encoded data removed]",
      "text/plain": [
       "<matplotlib.figure.Figure at 0x7f21b78e1d68>"
      ]
     },
     "metadata": {},
     "output_type": "display_data"
    }
   ],
   "source": [
    "# axis labels\n",
    "plt.xlabel('False Positive Rate')\n",
    "plt.ylabel('True Positive Rate')\n",
    "# show the legend\n",
    "plt.legend()\n",
    "plt.show()"
   ]
  },
  {
   "cell_type": "code",
   "execution_count": null,
   "metadata": {
    "collapsed": true
   },
   "outputs": [],
   "source": []
  },
  {
   "cell_type": "code",
   "execution_count": null,
   "metadata": {
    "collapsed": true
   },
   "outputs": [],
   "source": []
  }
 ],
 "metadata": {
  "coursera": {
   "course_slug": "python-machine-learning",
   "graded_item_id": "nNS8l",
   "launcher_item_id": "yWWk7",
   "part_id": "w8BSS"
  },
  "kernelspec": {
   "display_name": "Python 3",
   "language": "python",
   "name": "python3"
  },
  "language_info": {
   "codemirror_mode": {
    "name": "ipython",
    "version": 3
   },
   "file_extension": ".py",
   "mimetype": "text/x-python",
   "name": "python",
   "nbconvert_exporter": "python",
   "pygments_lexer": "ipython3",
   "version": "3.6.8"
  }
 },
 "nbformat": 4,
 "nbformat_minor": 2
}
